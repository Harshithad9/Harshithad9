{
 "cells": [
  {
   "cell_type": "code",
   "execution_count": 1,
   "id": "5cf767e1-5373-4f41-b110-8fbf16db4a8a",
   "metadata": {},
   "outputs": [
    {
     "name": "stdout",
     "output_type": "stream",
     "text": [
      "Welcome to Online Computer Quiz!!!\n"
     ]
    },
    {
     "name": "stdin",
     "output_type": "stream",
     "text": [
      "Do you wanna play?  yes\n"
     ]
    },
    {
     "name": "stdout",
     "output_type": "stream",
     "text": [
      "ohohh!! Let's play:)\n",
      " \n",
      "QUESTIONS\n",
      "---------\n"
     ]
    },
    {
     "name": "stdin",
     "output_type": "stream",
     "text": [
      "Which language is known as simplest and easy language to learn ?\n",
      ">> python\n"
     ]
    },
    {
     "name": "stdout",
     "output_type": "stream",
     "text": [
      "---Correct---\n",
      "\n"
     ]
    },
    {
     "name": "stdin",
     "output_type": "stream",
     "text": [
      "What is CSS stands for ?\n",
      ">>  cascading style sheets\n"
     ]
    },
    {
     "name": "stdout",
     "output_type": "stream",
     "text": [
      "Ohh noo, it's wrong:( \n",
      "\n"
     ]
    },
    {
     "name": "stdin",
     "output_type": "stream",
     "text": [
      "Is HTML a programming language ?\n",
      ">> no\n"
     ]
    },
    {
     "name": "stdout",
     "output_type": "stream",
     "text": [
      "---Correct---\n",
      "\n"
     ]
    },
    {
     "name": "stdin",
     "output_type": "stream",
     "text": [
      "Which is the most trending language in 2024 ?\n",
      ">>  js\n"
     ]
    },
    {
     "name": "stdout",
     "output_type": "stream",
     "text": [
      "---Correct---\n",
      "\n"
     ]
    },
    {
     "name": "stdin",
     "output_type": "stream",
     "text": [
      "Who developed C language ?\n",
      ">>  dennis richie\n"
     ]
    },
    {
     "name": "stdout",
     "output_type": "stream",
     "text": [
      "Ohh noo, it's wrong:( \n",
      "\n"
     ]
    },
    {
     "name": "stdin",
     "output_type": "stream",
     "text": [
      "Which is the first operating system ?\n",
      ">>  os\n"
     ]
    },
    {
     "name": "stdout",
     "output_type": "stream",
     "text": [
      "Ohh noo, it's wrong:( \n",
      "\n"
     ]
    },
    {
     "name": "stdin",
     "output_type": "stream",
     "text": [
      "Which keyword is used to come out of recursion ?\n",
      ">>  return\n"
     ]
    },
    {
     "name": "stdout",
     "output_type": "stream",
     "text": [
      "Ohh noo, it's wrong:( \n",
      "\n"
     ]
    },
    {
     "name": "stdin",
     "output_type": "stream",
     "text": [
      "What is the maximum length of the filename in DOS ?\n",
      ">>  8\n"
     ]
    },
    {
     "name": "stdout",
     "output_type": "stream",
     "text": [
      "---Correct---\n",
      "\n"
     ]
    },
    {
     "name": "stdin",
     "output_type": "stream",
     "text": [
      "What is the extension of the notepad ?\n",
      ">>  .txt\n"
     ]
    },
    {
     "name": "stdout",
     "output_type": "stream",
     "text": [
      "---Correct---\n",
      "\n"
     ]
    },
    {
     "name": "stdin",
     "output_type": "stream",
     "text": [
      "Which type of value does compareTo() returns _____ ?\n",
      ">>  boolean\n"
     ]
    },
    {
     "name": "stdout",
     "output_type": "stream",
     "text": [
      "---Correct---\n",
      "\n"
     ]
    },
    {
     "name": "stdin",
     "output_type": "stream",
     "text": [
      "What does AWT stands for ?\n",
      ">>  abstract window toolkit\n"
     ]
    },
    {
     "name": "stdout",
     "output_type": "stream",
     "text": [
      "Ohh noo, it's wrong:( \n",
      "\n"
     ]
    },
    {
     "name": "stdin",
     "output_type": "stream",
     "text": [
      "A variable declared in a method is called as ?\n",
      ">>  object\n"
     ]
    },
    {
     "name": "stdout",
     "output_type": "stream",
     "text": [
      "---Correct---\n",
      "\n"
     ]
    },
    {
     "name": "stdin",
     "output_type": "stream",
     "text": [
      "In C++, the index of the final element in as array is ?\n",
      ">>  ff\n"
     ]
    },
    {
     "name": "stdout",
     "output_type": "stream",
     "text": [
      "Ohh noo, it's wrong:( \n",
      "\n"
     ]
    },
    {
     "name": "stdin",
     "output_type": "stream",
     "text": [
      "Queue data strcture works on ?\n",
      ">>  fifo\n"
     ]
    },
    {
     "name": "stdout",
     "output_type": "stream",
     "text": [
      "---Correct---\n",
      "\n"
     ]
    },
    {
     "name": "stdin",
     "output_type": "stream",
     "text": [
      "When a pop() operation is called on an empty queue, what is the condition called ?\n",
      ">>  underflow\n"
     ]
    },
    {
     "name": "stdout",
     "output_type": "stream",
     "text": [
      "Ohh noo, it's wrong:( \n",
      "\n",
      "Total score >>  8\n"
     ]
    }
   ],
   "source": [
    "# simple quiz game\n",
    "print(\"Welcome to Online Computer Quiz!!!\")\n",
    "play=input(\"Do you wanna play? \")\n",
    "\n",
    "while play.lower() != \"yes\" :\n",
    "    quit()\n",
    "\n",
    "print(\"ohohh!! Let's play:)\\n \")\n",
    "score = 0 \n",
    "\n",
    "print(\"QUESTIONS\")\n",
    "print(\"---------\")\n",
    "\n",
    "\n",
    "question0 = input(\"Which language is known as simplest and easy language to learn ?\\n>>\")\n",
    "if question0.lower() == \"python\":\n",
    "    print(\"---Correct---\\n\")\n",
    "    score = score  + 1\n",
    "else:\n",
    "    print(\"Ohh noo, it's wrong:( \\n\")\n",
    "\n",
    "\n",
    "question1 = input(\"What is CSS stands for ?\\n>> \")\n",
    "if question1.lower() == \"cascading coding language\":\n",
    "    print(\"---Correct---\\n\")\n",
    "    score += 1\n",
    "else:\n",
    "    print(\"Ohh noo, it's wrong:( \\n\")\n",
    "\n",
    "\n",
    "question2 = input(\"Is HTML a programming language ?\\n>>\")\n",
    "if question2.lower() == \"no\":\n",
    "    print(\"---Correct---\\n\")\n",
    "    score += 1\n",
    "else:\n",
    "    print(\"Ohh noo, it's wrong:( \\n\")\n",
    "\n",
    "\n",
    "question3 = input(\"Which is the most trending language in 2024 ?\\n>> \")\n",
    "if question3.lower() == \"javascript\" or \"js\":\n",
    "    print(\"---Correct---\\n\")\n",
    "    score += 1\n",
    "else:\n",
    "    print(\"Ohh noo, it's wrong:( \\n\")\n",
    "\n",
    "\n",
    "question4 = input(\"Who developed C language ?\\n>> \")\n",
    "if question4.lower() == \"Dennis Ritchie\":\n",
    "    print(\"---Correct---\\n\")\n",
    "    score += 1\n",
    "else:\n",
    "    print(\"Ohh noo, it's wrong:( \\n\")\n",
    "\n",
    "\n",
    "question5 = input(\"Which is the first operating system ?\\n>> \")\n",
    "if question5.lower() == \"general motors\":\n",
    "    print(\"---Correct---\\n\")\n",
    "    score += 1\n",
    "else:\n",
    "    print(\"Ohh noo, it's wrong:( \\n\")\n",
    "\n",
    "question6 = input(\"Which keyword is used to come out of recursion ?\\n>> \")\n",
    "if question6.lower() == \"return\":\n",
    "    print(\"---Correct---\\n\")\n",
    "    score += 1\n",
    "else:\n",
    "    print(\"Ohh noo, it's wrong:( \\n\")\n",
    "\n",
    "question7 = input(\"What is the maximum length of the filename in DOS ?\\n>> \")\n",
    "if question7.lower() == \"8\" or \"08\" or \"eigth\":\n",
    "    print(\"---Correct---\\n\")\n",
    "    score += 1\n",
    "else:\n",
    "    print(\"Ohh noo, it's wrong:( \\n\")\n",
    "\n",
    "question8 = input(\"What is the extension of the notepad ?\\n>> \")\n",
    "if question8.lower() == \".txt\" or \"txt\":\n",
    "    print(\"---Correct---\\n\")\n",
    "    score += 1\n",
    "else:\n",
    "    print(\"Ohh noo, it's wrong:( \\n\")\n",
    "\n",
    "question9 = input(\"Which type of value does compareTo() returns _____ ?\\n>> \")\n",
    "if question9.lower() == \"int value\" or \"int\":\n",
    "    print(\"---Correct---\\n\")\n",
    "    score += 1\n",
    "else:\n",
    "    print(\"Ohh noo, it's wrong:( \\n\")\n",
    "\n",
    "question10 = input(\"What does AWT stands for ?\\n>> \")\n",
    "if question10.lower() == \"abstract window toolkit\":\n",
    "    print(\"---Correct---\\n\")\n",
    "    score += 1\n",
    "else:\n",
    "    print(\"Ohh noo, it's wrong:( \\n\")\n",
    "\n",
    "question11 = input(\"A variable declared in a method is called as ?\\n>> \")\n",
    "if question11.lower() == \"local data\" or \"local\":\n",
    "    print(\"---Correct---\\n\")\n",
    "    score += 1\n",
    "else:\n",
    "    print(\"Ohh noo, it's wrong:( \\n\")\n",
    "\n",
    "question12 = input(\"In C++, the index of the final element in as array is ?\\n>> \")\n",
    "if question12.lower() == \"0\":\n",
    "    print(\"---Correct---\\n\")\n",
    "    score += 1\n",
    "else:\n",
    "    print(\"Ohh noo, it's wrong:( \\n\")\n",
    "\n",
    "question13 = input(\"Queue data strcture works on ?\\n>> \")\n",
    "if question13.lower() == \"FIFO\" or \"first in first out\":\n",
    "    print(\"---Correct---\\n\")\n",
    "    score += 1\n",
    "else:\n",
    "    print(\"Ohh noo, it's wrong:( \\n\")\n",
    "\n",
    "question14 = input(\"When a pop() operation is called on an empty queue, what is the condition called ?\\n>> \")\n",
    "if question14.lower() == \"underflow\":\n",
    "    print(\"---Correct---\\n\")\n",
    "    score += 1\n",
    "else:\n",
    "    print(\"Ohh noo, it's wrong:( \\n\")\n",
    "\n",
    "print(\"Total score >> \",score)\n"
   ]
  },
  {
   "cell_type": "code",
   "execution_count": null,
   "id": "bbfd999e-9d77-4a77-b2a7-2370c7ba93b4",
   "metadata": {},
   "outputs": [],
   "source": []
  }
 ],
 "metadata": {
  "kernelspec": {
   "display_name": "Python 3 (ipykernel)",
   "language": "python",
   "name": "python3"
  },
  "language_info": {
   "codemirror_mode": {
    "name": "ipython",
    "version": 3
   },
   "file_extension": ".py",
   "mimetype": "text/x-python",
   "name": "python",
   "nbconvert_exporter": "python",
   "pygments_lexer": "ipython3",
   "version": "3.12.6"
  }
 },
 "nbformat": 4,
 "nbformat_minor": 5
}
